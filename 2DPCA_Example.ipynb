{
 "cells": [
  {
   "cell_type": "code",
   "execution_count": null,
   "metadata": {},
   "outputs": [],
   "source": [
    "def TwoDPCA(imgs,p):\n",
    "    # imgs为三维矩阵，第一维为图片个数\n",
    "    a,b,c = imgs.shape\n",
    "    # 求平均值矩阵\n",
    "    average = np.zeros((b,c))\n",
    "    for i in range(a):\n",
    "        average += imgs[i,:,:]/(a*1.0)\n",
    "    G_t = np.zeros((c,c))\n",
    "    for j in range(a):\n",
    "        img = imgs[j,:,:]\n",
    "        # 均值归0\n",
    "        temp = img-average\n",
    "        # 计算协方差矩阵\n",
    "        G_t = G_t + np.dot(temp.T,temp)/(a*1.0)\n",
    "    w,v = np.linalg.eigh(G_t)\n",
    "    w = w[::-1]\n",
    "    v = v[::-1]\n",
    "    # 保留p%的信息量，也可以修改参数降到L维\n",
    "    for k in range(c):\n",
    "        alpha = sum(w[:k])*1.0/sum(w)\n",
    "        # 求迹最大的协方差矩阵\n",
    "        if alpha >= p:\n",
    "            u = v[:,:k]\n",
    "            break\n",
    "    return u\n"
   ]
  }
 ],
 "metadata": {
  "anaconda-cloud": {},
  "kernelspec": {
   "display_name": "Python 3.6.10 64-bit ('py36': conda)",
   "language": "python",
   "name": "python361064bitpy36condaf16272f14e53479f98b0e3ff76fecfef"
  },
  "language_info": {
   "codemirror_mode": {
    "name": "ipython",
    "version": 3
   },
   "file_extension": ".py",
   "mimetype": "text/x-python",
   "name": "python",
   "nbconvert_exporter": "python",
   "pygments_lexer": "ipython3",
   "version": "3.6.10"
  }
 },
 "nbformat": 4,
 "nbformat_minor": 2
}
