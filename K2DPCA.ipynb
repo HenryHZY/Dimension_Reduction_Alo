{
 "cells": [
  {
   "cell_type": "markdown",
   "metadata": {},
   "source": [
    "### 读取图片文件\n",
    "* 200张图片，每张图片为112\\*92\\*3，将其转化为112\\*92灰度图"
   ]
  },
  {
   "cell_type": "code",
   "execution_count": 41,
   "metadata": {},
   "outputs": [
    {
     "name": "stdout",
     "output_type": "stream",
     "text": [
      "(200, 112, 92)\n"
     ]
    }
   ],
   "source": [
    "from PIL import Image\n",
    "import numpy as np\n",
    "import os\n",
    "img_data = []\n",
    "content_path = 'data/'\n",
    "for file in os.listdir(content_path):\n",
    "    # 拼接完整文件路径\n",
    "    cmp_path = os.path.join(content_path,file)\n",
    "    I = Image.open(cmp_path)\n",
    "    tmp_img = np.array(I.convert('L')) / 255  # 此处将取值范围为0-255的像素值进行放缩到0-1，便于计算高斯核函数\n",
    "    img_data.append(tmp_img)\n",
    "data = np.array(img_data)\n",
    "print(data.shape)"
   ]
  },
  {
   "cell_type": "markdown",
   "metadata": {},
   "source": [
    "### 采用K2DPCA对图像矩阵进行特征提取"
   ]
  },
  {
   "cell_type": "code",
   "execution_count": 45,
   "metadata": {},
   "outputs": [
    {
     "data": {
      "text/plain": [
       "(200, 112, 5)"
      ]
     },
     "execution_count": 45,
     "metadata": {},
     "output_type": "execute_result"
    }
   ],
   "source": [
    "import numpy as np\n",
    "import matplotlib.pyplot as plt\n",
    "from scipy.spatial.distance import pdist, squareform\n",
    "\n",
    "def rbf(x, gamma=1):\n",
    "    # 计算行之间欧式距离的平方，共计算C_(150)^2次\n",
    "    sq_dists = pdist(x, 'sqeuclidean')\n",
    "    # 把向量格式的距离转化为矩阵格式\n",
    "    mat_sql_dists = squareform(sq_dists)\n",
    "    return np.exp(-gamma*mat_sql_dists)\n",
    "\n",
    "def KPCA(data, n_dims, kernel=rbf):\n",
    "    # data为m*n的行矩阵\n",
    "    K = kernel(data)\n",
    "    N = K.shape[0]\n",
    "    one_n = np.ones((N,N))\n",
    "    # 此式相当于将公式4.2带入到4.3中化简得到的结果\n",
    "    K = K - one_n.dot(K) - K.dot(one_n) + one_n.dot(K).dot(one_n)\n",
    "    # 下面求C特征向量\n",
    "    eig_values, eig_vector = np.linalg.eig(K)\n",
    "    # 获得特征值降序索引\n",
    "    idx = eig_values.argsort()[::-1]\n",
    "    eigval = eig_values[idx][:n_dims]\n",
    "    eigvector = eig_vector[:,idx][:,:n_dims]\n",
    "    # 求标准正交向量组\n",
    "    eigval = eigval ** (1/2)\n",
    "    vi = eigvector/eigval.reshape(-1,n_dims)\n",
    "    # 求数据在新的维度上的对应值\n",
    "    data_n = np.dot(K,vi)\n",
    "    return data_n\n",
    "    \n",
    "def K2DPCA(imgs,n_dim):\n",
    "    '''\n",
    "    data为绘图图像三维数据\n",
    "    n_dim为降维的维度\n",
    "    kernel为核函数\n",
    "    '''\n",
    "    nd_imgs = []\n",
    "    for img in imgs:\n",
    "        newData = KPCA(img,n_dim)\n",
    "        nd_imgs.append(newData)\n",
    "    return np.array(nd_imgs)\n",
    "\n",
    "result = K2DPCA(data,5)\n",
    "result.shape"
   ]
  }
 ],
 "metadata": {
  "anaconda-cloud": {},
  "kernelspec": {
   "display_name": "Python 3.6.10 64-bit ('py36': conda)",
   "language": "python",
   "name": "python361064bitpy36condaf16272f14e53479f98b0e3ff76fecfef"
  },
  "language_info": {
   "codemirror_mode": {
    "name": "ipython",
    "version": 3
   },
   "file_extension": ".py",
   "mimetype": "text/x-python",
   "name": "python",
   "nbconvert_exporter": "python",
   "pygments_lexer": "ipython3",
   "version": "3.6.10"
  }
 },
 "nbformat": 4,
 "nbformat_minor": 2
}
